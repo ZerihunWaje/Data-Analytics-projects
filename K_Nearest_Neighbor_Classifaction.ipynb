{
  "nbformat": 4,
  "nbformat_minor": 0,
  "metadata": {
    "colab": {
      "provenance": [],
      "authorship_tag": "ABX9TyOC5qhyLzBYD9xzlm6qO1p2",
      "include_colab_link": true
    },
    "kernelspec": {
      "name": "python3",
      "display_name": "Python 3"
    },
    "language_info": {
      "name": "python"
    }
  },
  "cells": [
    {
      "cell_type": "markdown",
      "metadata": {
        "id": "view-in-github",
        "colab_type": "text"
      },
      "source": [
        "<a href=\"https://colab.research.google.com/github/ZerihunWaje/Data-Analytics-projects/blob/main/K_Nearest_Neighbor_Classifaction.ipynb\" target=\"_parent\"><img src=\"https://colab.research.google.com/assets/colab-badge.svg\" alt=\"Open In Colab\"/></a>"
      ]
    },
    {
      "cell_type": "code",
      "execution_count": 4,
      "metadata": {
        "id": "5sm9Frde_kDp"
      },
      "outputs": [],
      "source": [
        "import pandas as pd"
      ]
    },
    {
      "cell_type": "code",
      "source": [
        "url='https://raw.githubusercontent.com/ZerihunWaje/Machine-learning-projects/main/Dataset.csv'\n",
        "df=pd.read_csv(url)"
      ],
      "metadata": {
        "id": "8JCpjlbBAY5C"
      },
      "execution_count": 5,
      "outputs": []
    },
    {
      "cell_type": "code",
      "source": [
        "print(df)"
      ],
      "metadata": {
        "colab": {
          "base_uri": "https://localhost:8080/"
        },
        "id": "7xDlACOLApxR",
        "outputId": "6150e5d8-4089-4285-ba00-b7d9027e8bd2"
      },
      "execution_count": 6,
      "outputs": [
        {
          "output_type": "stream",
          "name": "stdout",
          "text": [
            "       Age  Income Student Credit_rating Buy_computer\n",
            "0    young    high      no          fair           no\n",
            "1    young    high      no     excellent           no\n",
            "2   middle    high      no          fair          yes\n",
            "3      old  medium      no          fair          yes\n",
            "4      old     low     yes          fair          yes\n",
            "5      old     low     yes     excellent           no\n",
            "6   middle     low     yes     excellent          yes\n",
            "7    young  medium      no          fair           no\n",
            "8    young     low     yes          fair          yes\n",
            "9      old  medium     yes          fair          yes\n",
            "10   young  medium     yes     excellent          yes\n",
            "11  middle  medium      no     excellent          yes\n",
            "12  middle    high     yes          fair          yes\n",
            "13     old  medium      no     excellent           no\n"
          ]
        }
      ]
    },
    {
      "cell_type": "code",
      "source": [
        "df.describe()"
      ],
      "metadata": {
        "colab": {
          "base_uri": "https://localhost:8080/",
          "height": 175
        },
        "id": "phYRs5iNBLZT",
        "outputId": "e0539786-c3a3-473a-b40c-4ced14738d4d"
      },
      "execution_count": 7,
      "outputs": [
        {
          "output_type": "execute_result",
          "data": {
            "text/plain": [
              "          Age  Income Student Credit_rating Buy_computer\n",
              "count      14      14      14            14           14\n",
              "unique      3       3       2             2            2\n",
              "top     young  medium      no          fair          yes\n",
              "freq        5       6       7             8            9"
            ],
            "text/html": [
              "\n",
              "  <div id=\"df-402c1018-9f73-465f-8409-8b1adc2783c9\">\n",
              "    <div class=\"colab-df-container\">\n",
              "      <div>\n",
              "<style scoped>\n",
              "    .dataframe tbody tr th:only-of-type {\n",
              "        vertical-align: middle;\n",
              "    }\n",
              "\n",
              "    .dataframe tbody tr th {\n",
              "        vertical-align: top;\n",
              "    }\n",
              "\n",
              "    .dataframe thead th {\n",
              "        text-align: right;\n",
              "    }\n",
              "</style>\n",
              "<table border=\"1\" class=\"dataframe\">\n",
              "  <thead>\n",
              "    <tr style=\"text-align: right;\">\n",
              "      <th></th>\n",
              "      <th>Age</th>\n",
              "      <th>Income</th>\n",
              "      <th>Student</th>\n",
              "      <th>Credit_rating</th>\n",
              "      <th>Buy_computer</th>\n",
              "    </tr>\n",
              "  </thead>\n",
              "  <tbody>\n",
              "    <tr>\n",
              "      <th>count</th>\n",
              "      <td>14</td>\n",
              "      <td>14</td>\n",
              "      <td>14</td>\n",
              "      <td>14</td>\n",
              "      <td>14</td>\n",
              "    </tr>\n",
              "    <tr>\n",
              "      <th>unique</th>\n",
              "      <td>3</td>\n",
              "      <td>3</td>\n",
              "      <td>2</td>\n",
              "      <td>2</td>\n",
              "      <td>2</td>\n",
              "    </tr>\n",
              "    <tr>\n",
              "      <th>top</th>\n",
              "      <td>young</td>\n",
              "      <td>medium</td>\n",
              "      <td>no</td>\n",
              "      <td>fair</td>\n",
              "      <td>yes</td>\n",
              "    </tr>\n",
              "    <tr>\n",
              "      <th>freq</th>\n",
              "      <td>5</td>\n",
              "      <td>6</td>\n",
              "      <td>7</td>\n",
              "      <td>8</td>\n",
              "      <td>9</td>\n",
              "    </tr>\n",
              "  </tbody>\n",
              "</table>\n",
              "</div>\n",
              "      <button class=\"colab-df-convert\" onclick=\"convertToInteractive('df-402c1018-9f73-465f-8409-8b1adc2783c9')\"\n",
              "              title=\"Convert this dataframe to an interactive table.\"\n",
              "              style=\"display:none;\">\n",
              "        \n",
              "  <svg xmlns=\"http://www.w3.org/2000/svg\" height=\"24px\"viewBox=\"0 0 24 24\"\n",
              "       width=\"24px\">\n",
              "    <path d=\"M0 0h24v24H0V0z\" fill=\"none\"/>\n",
              "    <path d=\"M18.56 5.44l.94 2.06.94-2.06 2.06-.94-2.06-.94-.94-2.06-.94 2.06-2.06.94zm-11 1L8.5 8.5l.94-2.06 2.06-.94-2.06-.94L8.5 2.5l-.94 2.06-2.06.94zm10 10l.94 2.06.94-2.06 2.06-.94-2.06-.94-.94-2.06-.94 2.06-2.06.94z\"/><path d=\"M17.41 7.96l-1.37-1.37c-.4-.4-.92-.59-1.43-.59-.52 0-1.04.2-1.43.59L10.3 9.45l-7.72 7.72c-.78.78-.78 2.05 0 2.83L4 21.41c.39.39.9.59 1.41.59.51 0 1.02-.2 1.41-.59l7.78-7.78 2.81-2.81c.8-.78.8-2.07 0-2.86zM5.41 20L4 18.59l7.72-7.72 1.47 1.35L5.41 20z\"/>\n",
              "  </svg>\n",
              "      </button>\n",
              "      \n",
              "  <style>\n",
              "    .colab-df-container {\n",
              "      display:flex;\n",
              "      flex-wrap:wrap;\n",
              "      gap: 12px;\n",
              "    }\n",
              "\n",
              "    .colab-df-convert {\n",
              "      background-color: #E8F0FE;\n",
              "      border: none;\n",
              "      border-radius: 50%;\n",
              "      cursor: pointer;\n",
              "      display: none;\n",
              "      fill: #1967D2;\n",
              "      height: 32px;\n",
              "      padding: 0 0 0 0;\n",
              "      width: 32px;\n",
              "    }\n",
              "\n",
              "    .colab-df-convert:hover {\n",
              "      background-color: #E2EBFA;\n",
              "      box-shadow: 0px 1px 2px rgba(60, 64, 67, 0.3), 0px 1px 3px 1px rgba(60, 64, 67, 0.15);\n",
              "      fill: #174EA6;\n",
              "    }\n",
              "\n",
              "    [theme=dark] .colab-df-convert {\n",
              "      background-color: #3B4455;\n",
              "      fill: #D2E3FC;\n",
              "    }\n",
              "\n",
              "    [theme=dark] .colab-df-convert:hover {\n",
              "      background-color: #434B5C;\n",
              "      box-shadow: 0px 1px 3px 1px rgba(0, 0, 0, 0.15);\n",
              "      filter: drop-shadow(0px 1px 2px rgba(0, 0, 0, 0.3));\n",
              "      fill: #FFFFFF;\n",
              "    }\n",
              "  </style>\n",
              "\n",
              "      <script>\n",
              "        const buttonEl =\n",
              "          document.querySelector('#df-402c1018-9f73-465f-8409-8b1adc2783c9 button.colab-df-convert');\n",
              "        buttonEl.style.display =\n",
              "          google.colab.kernel.accessAllowed ? 'block' : 'none';\n",
              "\n",
              "        async function convertToInteractive(key) {\n",
              "          const element = document.querySelector('#df-402c1018-9f73-465f-8409-8b1adc2783c9');\n",
              "          const dataTable =\n",
              "            await google.colab.kernel.invokeFunction('convertToInteractive',\n",
              "                                                     [key], {});\n",
              "          if (!dataTable) return;\n",
              "\n",
              "          const docLinkHtml = 'Like what you see? Visit the ' +\n",
              "            '<a target=\"_blank\" href=https://colab.research.google.com/notebooks/data_table.ipynb>data table notebook</a>'\n",
              "            + ' to learn more about interactive tables.';\n",
              "          element.innerHTML = '';\n",
              "          dataTable['output_type'] = 'display_data';\n",
              "          await google.colab.output.renderOutput(dataTable, element);\n",
              "          const docLink = document.createElement('div');\n",
              "          docLink.innerHTML = docLinkHtml;\n",
              "          element.appendChild(docLink);\n",
              "        }\n",
              "      </script>\n",
              "    </div>\n",
              "  </div>\n",
              "  "
            ]
          },
          "metadata": {},
          "execution_count": 7
        }
      ]
    },
    {
      "cell_type": "code",
      "source": [
        "data_age={'young':0,'middle':1,'old':2}\n",
        "data_income={'high':2,'medium':1,'low':0}\n",
        "data_student={'no':0,'yes':1}\n",
        "data_cr={'fair':0,'excellent':1}\n",
        "data_buy_computer={'no':0,'yes':1}"
      ],
      "metadata": {
        "id": "iF0oh12DBZMQ"
      },
      "execution_count": 8,
      "outputs": []
    },
    {
      "cell_type": "code",
      "source": [
        "df['Age']=df['Age'].map(data_age)\n",
        "df['Income']=df['Income'].map(data_income)\n",
        "df['Student']=df['Student'].map(data_student)\n",
        "df['Credit_rating']=df['Credit_rating'].map(data_cr)\n",
        "df['Buy_computer']=df['Buy_computer'].map(data_buy_computer)"
      ],
      "metadata": {
        "id": "Ej-EYnmpDhcW"
      },
      "execution_count": 9,
      "outputs": []
    },
    {
      "cell_type": "code",
      "source": [
        "print(df)"
      ],
      "metadata": {
        "colab": {
          "base_uri": "https://localhost:8080/"
        },
        "id": "2roGc0gYEz8k",
        "outputId": "20c325af-cfdf-4141-f604-842f7c11ca3b"
      },
      "execution_count": 10,
      "outputs": [
        {
          "output_type": "stream",
          "name": "stdout",
          "text": [
            "    Age  Income  Student  Credit_rating  Buy_computer\n",
            "0     0       2        0              0             0\n",
            "1     0       2        0              1             0\n",
            "2     1       2        0              0             1\n",
            "3     2       1        0              0             1\n",
            "4     2       0        1              0             1\n",
            "5     2       0        1              1             0\n",
            "6     1       0        1              1             1\n",
            "7     0       1        0              0             0\n",
            "8     0       0        1              0             1\n",
            "9     2       1        1              0             1\n",
            "10    0       1        1              1             1\n",
            "11    1       1        0              1             1\n",
            "12    1       2        1              0             1\n",
            "13    2       1        0              1             0\n"
          ]
        }
      ]
    },
    {
      "cell_type": "code",
      "source": [
        "features=['Age','Income','Student','Credit_rating']\n",
        "data=df[features]\n",
        "classes=df['Buy_computer']"
      ],
      "metadata": {
        "id": "bV961DD4KeYl"
      },
      "execution_count": 30,
      "outputs": []
    },
    {
      "cell_type": "code",
      "source": [
        "from sklearn.neighbors import KNeighborsClassifier"
      ],
      "metadata": {
        "id": "q9x-Dso7O6tp"
      },
      "execution_count": 31,
      "outputs": []
    },
    {
      "cell_type": "code",
      "source": [
        "knn=KNeighborsClassifier(n_neighbors=2)"
      ],
      "metadata": {
        "id": "SRPZ9_V-PXnX"
      },
      "execution_count": 32,
      "outputs": []
    },
    {
      "cell_type": "code",
      "source": [
        "knn.fit(data,classes)"
      ],
      "metadata": {
        "colab": {
          "base_uri": "https://localhost:8080/"
        },
        "id": "tW1Wt6ciPgib",
        "outputId": "9a134c8d-8a27-4a80-a5be-5eb84adfb6ac"
      },
      "execution_count": 33,
      "outputs": [
        {
          "output_type": "execute_result",
          "data": {
            "text/plain": [
              "KNeighborsClassifier(n_neighbors=2)"
            ]
          },
          "metadata": {},
          "execution_count": 33
        }
      ]
    },
    {
      "cell_type": "code",
      "source": [
        "url='https://raw.githubusercontent.com/ZerihunWaje/Machine-learning-projects/main/dataset2.csv'\n",
        "df_validation=pd.read_csv(url)"
      ],
      "metadata": {
        "id": "6dn2Jct8PnOL"
      },
      "execution_count": 34,
      "outputs": []
    },
    {
      "cell_type": "code",
      "source": [
        "print(df_validation)"
      ],
      "metadata": {
        "colab": {
          "base_uri": "https://localhost:8080/"
        },
        "id": "YCViPECOQQca",
        "outputId": "64cbf652-3196-46e9-813b-c46add61b0b5"
      },
      "execution_count": 35,
      "outputs": [
        {
          "output_type": "stream",
          "name": "stdout",
          "text": [
            "       Age Income Student Credit_rating Buy_computer\n",
            "0      old    low     yes          fair          yes\n",
            "1      old   high      no          fair          yes\n",
            "2    young    low      no     excellent           no\n",
            "3   middle    low      no          fair           no\n",
            "4      old    low     yes     excellent           no\n",
            "5    young   high     yes     excellent          yes\n",
            "6    young   high      no          fair          yes\n",
            "7    young    low     yes          fair           no\n",
            "8   middle   high     yes     excellent           no\n",
            "9    young   high      no          fair          yes\n",
            "10     old    low      no     excellent           no\n"
          ]
        }
      ]
    },
    {
      "cell_type": "code",
      "source": [
        "d_data_age={'young':0,'middle':1,'old':2}\n",
        "d_data_income={'high':0,'medium':1,'low':2}\n",
        "d_data_student={'no':0,'yes':1}\n",
        "d_data_cr={'fair':0,'excellent':1}\n",
        "d_data_buy_computer={'no':0,'yes':1}"
      ],
      "metadata": {
        "id": "S6E2sw6GQWgm"
      },
      "execution_count": 36,
      "outputs": []
    },
    {
      "cell_type": "code",
      "source": [
        "df_validation['Age']=df_validation['Age'].map(d_data_age)\n",
        "df_validation['Income']=df_validation['Income'].map(d_data_income)\n",
        "df_validation['Student']=df_validation['Student'].map(d_data_student)\n",
        "df_validation['Credit_rating']=df_validation['Credit_rating'].map(d_data_cr)\n",
        "df_validation['Buy_computer']=df_validation['Buy_computer'].map(d_data_buy_computer)"
      ],
      "metadata": {
        "id": "kDk-zoSVS7Dz"
      },
      "execution_count": 37,
      "outputs": []
    },
    {
      "cell_type": "code",
      "source": [
        "features=['Age','Income','Student','Credit_rating']\n",
        "test_df=df_validation[features]\n",
        "print(test_df)"
      ],
      "metadata": {
        "colab": {
          "base_uri": "https://localhost:8080/"
        },
        "id": "5LIV4KIfghMJ",
        "outputId": "f3252a1b-cbd6-4fc2-c1f8-8e829750b561"
      },
      "execution_count": 38,
      "outputs": [
        {
          "output_type": "stream",
          "name": "stdout",
          "text": [
            "    Age  Income  Student  Credit_rating\n",
            "0     2       2        1              0\n",
            "1     2       0        0              0\n",
            "2     0       2        0              1\n",
            "3     1       2        0              0\n",
            "4     2       2        1              1\n",
            "5     0       0        1              1\n",
            "6     0       0        0              0\n",
            "7     0       2        1              0\n",
            "8     1       0        1              1\n",
            "9     0       0        0              0\n",
            "10    2       2        0              1\n"
          ]
        }
      ]
    },
    {
      "cell_type": "code",
      "source": [
        "predicted_class=list(knn.predict(test_df))\n",
        "print(predicted_class)"
      ],
      "metadata": {
        "colab": {
          "base_uri": "https://localhost:8080/"
        },
        "id": "IrY6AbM6W6n9",
        "outputId": "31199f62-42c5-48a5-d722-0b6e69f5e296"
      },
      "execution_count": 39,
      "outputs": [
        {
          "output_type": "stream",
          "name": "stdout",
          "text": [
            "[1, 1, 0, 0, 1, 1, 0, 0, 0, 0, 0]\n"
          ]
        }
      ]
    },
    {
      "cell_type": "code",
      "source": [
        "actual_classes = df_validation['Buy_computer'].values.tolist()\n",
        "\n",
        "print(actual_classes)"
      ],
      "metadata": {
        "colab": {
          "base_uri": "https://localhost:8080/"
        },
        "id": "4ViNIMaOUF7j",
        "outputId": "029d3493-ae65-471f-82b8-fdecabe384cf"
      },
      "execution_count": 40,
      "outputs": [
        {
          "output_type": "stream",
          "name": "stdout",
          "text": [
            "[1, 1, 0, 0, 0, 1, 1, 0, 0, 1, 0]\n"
          ]
        }
      ]
    },
    {
      "cell_type": "code",
      "source": [
        "from sklearn import metrics\n",
        "confusion_matrix = metrics.confusion_matrix(actual_classes, predicted_class)"
      ],
      "metadata": {
        "id": "rglqsoqiIHGC"
      },
      "execution_count": 41,
      "outputs": []
    },
    {
      "cell_type": "code",
      "source": [
        "cm_display = metrics.ConfusionMatrixDisplay(confusion_matrix = confusion_matrix, display_labels = [False, True])"
      ],
      "metadata": {
        "id": "QicLpERaIai4"
      },
      "execution_count": 42,
      "outputs": []
    },
    {
      "cell_type": "code",
      "source": [
        "import matplotlib.pyplot as plt\n",
        "cm_display.plot()\n",
        "plt.show()"
      ],
      "metadata": {
        "colab": {
          "base_uri": "https://localhost:8080/",
          "height": 283
        },
        "id": "sWEzRru8IiGY",
        "outputId": "30e9871e-8eb2-4359-fb4e-8051160be484"
      },
      "execution_count": 43,
      "outputs": [
        {
          "output_type": "display_data",
          "data": {
            "text/plain": [
              "<Figure size 432x288 with 2 Axes>"
            ],
            "image/png": "[encoded data removed]"
          },
          "metadata": {
            "needs_background": "light"
          }
        }
      ]
    },
    {
      "cell_type": "code",
      "source": [
        "Accuracy = metrics.accuracy_score(actual_classes, predicted_class)\n",
        "print(Accuracy)"
      ],
      "metadata": {
        "colab": {
          "base_uri": "https://localhost:8080/"
        },
        "id": "RIPninoiIrAf",
        "outputId": "ab49102f-8328-446e-b98f-8fb3e76d3e95"
      },
      "execution_count": 44,
      "outputs": [
        {
          "output_type": "stream",
          "name": "stdout",
          "text": [
            "0.7272727272727273\n"
          ]
        }
      ]
    },
    {
      "cell_type": "code",
      "source": [
        "Precision = metrics.precision_score(actual_classes, predicted_class)\n",
        "print(Precision)"
      ],
      "metadata": {
        "colab": {
          "base_uri": "https://localhost:8080/"
        },
        "id": "CwAWrRliIt00",
        "outputId": "3bc5373e-0c7d-4827-e587-1c749b88ad3a"
      },
      "execution_count": 46,
      "outputs": [
        {
          "output_type": "stream",
          "name": "stdout",
          "text": [
            "0.75\n"
          ]
        }
      ]
    },
    {
      "cell_type": "code",
      "source": [
        "Sensitivity_recall = metrics.recall_score(actual_classes, predicted_class)\n",
        "print(Sensitivity_recall)"
      ],
      "metadata": {
        "colab": {
          "base_uri": "https://localhost:8080/"
        },
        "id": "t8G4Z3F9I114",
        "outputId": "f423e118-bc14-4c02-e096-3f52bef3416c"
      },
      "execution_count": 47,
      "outputs": [
        {
          "output_type": "stream",
          "name": "stdout",
          "text": [
            "0.6\n"
          ]
        }
      ]
    },
    {
      "cell_type": "code",
      "source": [
        "Specificity = metrics.recall_score(actual_classes, predicted_class, pos_label=0)\n",
        "print(Specificity)"
      ],
      "metadata": {
        "colab": {
          "base_uri": "https://localhost:8080/"
        },
        "id": "zJc9k04dI6pM",
        "outputId": "24bdc760-d606-4f96-f359-8c3c2f1f0cfe"
      },
      "execution_count": 49,
      "outputs": [
        {
          "output_type": "stream",
          "name": "stdout",
          "text": [
            "0.8333333333333334\n"
          ]
        }
      ]
    },
    {
      "cell_type": "code",
      "source": [
        "F1_score = metrics.f1_score(actual_classes, predicted_class)\n",
        "print(F1_score)"
      ],
      "metadata": {
        "colab": {
          "base_uri": "https://localhost:8080/"
        },
        "id": "kQGUa5OZI__D",
        "outputId": "373a1f46-be7f-4305-aa20-0af15d9c84b1"
      },
      "execution_count": 51,
      "outputs": [
        {
          "output_type": "stream",
          "name": "stdout",
          "text": [
            "0.6666666666666665\n"
          ]
        }
      ]
    },
    {
      "cell_type": "code",
      "source": [
        "print({\"Accuracy\":Accuracy,\"Precision\":Precision,\"Sensitivity_recall\":Sensitivity_recall,\"Specificity\":Specificity,\"F1_score\":F1_score})"
      ],
      "metadata": {
        "colab": {
          "base_uri": "https://localhost:8080/"
        },
        "id": "Huj8lVmjJFSs",
        "outputId": "24dc8943-4bc9-4a3e-869c-9d17a270a0bd"
      },
      "execution_count": 52,
      "outputs": [
        {
          "output_type": "stream",
          "name": "stdout",
          "text": [
            "{'Accuracy': 0.7272727272727273, 'Precision': 0.75, 'Sensitivity_recall': 0.6, 'Specificity': 0.8333333333333334, 'F1_score': 0.6666666666666665}\n"
          ]
        }
      ]
    },
    {
      "cell_type": "code",
      "source": [
        "data = df.values.tolist()"
      ],
      "metadata": {
        "id": "XoonzQEvJPJl"
      },
      "execution_count": 53,
      "outputs": []
    },
    {
      "cell_type": "code",
      "source": [
        "print(data)"
      ],
      "metadata": {
        "colab": {
          "base_uri": "https://localhost:8080/"
        },
        "id": "lKshLIkrJR_1",
        "outputId": "57ad53a3-51e0-4773-8255-2a192eef254a"
      },
      "execution_count": 54,
      "outputs": [
        {
          "output_type": "stream",
          "name": "stdout",
          "text": [
            "[[0, 2, 0, 0, 0], [0, 2, 0, 1, 0], [1, 2, 0, 0, 1], [2, 1, 0, 0, 1], [2, 0, 1, 0, 1], [2, 0, 1, 1, 0], [1, 0, 1, 1, 1], [0, 1, 0, 0, 0], [0, 0, 1, 0, 1], [2, 1, 1, 0, 1], [0, 1, 1, 1, 1], [1, 1, 0, 1, 1], [1, 2, 1, 0, 1], [2, 1, 0, 1, 0]]\n"
          ]
        }
      ]
    },
    {
      "cell_type": "code",
      "source": [],
      "metadata": {
        "id": "wA94KUGkJVTp"
      },
      "execution_count": null,
      "outputs": []
    }
  ]
}