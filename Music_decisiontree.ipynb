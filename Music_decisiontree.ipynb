{
  "nbformat": 4,
  "nbformat_minor": 0,
  "metadata": {
    "colab": {
      "provenance": [],
      "authorship_tag": "ABX9TyNvRhAPJBC5ACVxvu+lpxr/",
      "include_colab_link": true
    },
    "kernelspec": {
      "name": "python3",
      "display_name": "Python 3"
    },
    "language_info": {
      "name": "python"
    }
  },
  "cells": [
    {
      "cell_type": "markdown",
      "metadata": {
        "id": "view-in-github",
        "colab_type": "text"
      },
      "source": [
        "<a href=\"https://colab.research.google.com/github/ZerihunWaje/Data-Analytics-projects/blob/main/Music_decisiontree.ipynb\" target=\"_parent\"><img src=\"https://colab.research.google.com/assets/colab-badge.svg\" alt=\"Open In Colab\"/></a>"
      ]
    },
    {
      "cell_type": "code",
      "execution_count": 4,
      "metadata": {
        "id": "rP60pO8D9tuK"
      },
      "outputs": [],
      "source": [
        "import pandas as pd\n",
        "from sklearn.tree import DecisionTreeClassifier\n",
        "from sklearn import tree\n",
        "from graphviz import Graph\n",
        "import graphviz"
      ]
    },
    {
      "cell_type": "code",
      "source": [
        "data=pd.read_csv(\"/content/music.csv\")\n",
        "data.shape"
      ],
      "metadata": {
        "colab": {
          "base_uri": "https://localhost:8080/"
        },
        "id": "OmloOsZ7-4Db",
        "outputId": "a6e94c44-063d-4b20-f597-d25be9ce069b"
      },
      "execution_count": 7,
      "outputs": [
        {
          "output_type": "execute_result",
          "data": {
            "text/plain": [
              "(18, 3)"
            ]
          },
          "metadata": {},
          "execution_count": 7
        }
      ]
    },
    {
      "cell_type": "code",
      "source": [
        "I=data.drop(columns=['genre'])\n",
        "print(I)"
      ],
      "metadata": {
        "colab": {
          "base_uri": "https://localhost:8080/"
        },
        "id": "6h71rRu5Ajcp",
        "outputId": "bcdd7a9d-7d0c-408a-f3c2-9e6524d7878a"
      },
      "execution_count": 9,
      "outputs": [
        {
          "output_type": "stream",
          "name": "stdout",
          "text": [
            "    age  gender\n",
            "0    20       1\n",
            "1    23       1\n",
            "2    25       1\n",
            "3    26       1\n",
            "4    29       1\n",
            "5    30       1\n",
            "6    31       1\n",
            "7    33       1\n",
            "8    37       1\n",
            "9    20       0\n",
            "10   21       0\n",
            "11   25       0\n",
            "12   26       0\n",
            "13   27       0\n",
            "14   30       0\n",
            "15   31       0\n",
            "16   34       0\n",
            "17   35       0\n"
          ]
        }
      ]
    },
    {
      "cell_type": "code",
      "source": [
        "O=data['genre']"
      ],
      "metadata": {
        "id": "zc6WM0OtAx-G"
      },
      "execution_count": 10,
      "outputs": []
    },
    {
      "cell_type": "code",
      "source": [
        "print(O)"
      ],
      "metadata": {
        "colab": {
          "base_uri": "https://localhost:8080/"
        },
        "id": "ssN7q_v3BED4",
        "outputId": "cc80c3a0-616b-44e6-e26e-3b85b07a5534"
      },
      "execution_count": 11,
      "outputs": [
        {
          "output_type": "stream",
          "name": "stdout",
          "text": [
            "0        HipHop\n",
            "1        HipHop\n",
            "2        HipHop\n",
            "3          Jazz\n",
            "4          Jazz\n",
            "5          Jazz\n",
            "6     Classical\n",
            "7     Classical\n",
            "8     Classical\n",
            "9         Dance\n",
            "10        Dance\n",
            "11        Dance\n",
            "12     Acoustic\n",
            "13     Acoustic\n",
            "14     Acoustic\n",
            "15    Classical\n",
            "16    Classical\n",
            "17    Classical\n",
            "Name: genre, dtype: object\n"
          ]
        }
      ]
    },
    {
      "cell_type": "code",
      "source": [
        "M=DecisionTreeClassifier()\n",
        "M.fit(I,O)\n",
        "print(M)"
      ],
      "metadata": {
        "colab": {
          "base_uri": "https://localhost:8080/"
        },
        "id": "rakoRb6BBHE6",
        "outputId": "8503528b-eec2-4296-f0a4-77017d3f6c0d"
      },
      "execution_count": 12,
      "outputs": [
        {
          "output_type": "stream",
          "name": "stdout",
          "text": [
            "DecisionTreeClassifier()\n"
          ]
        }
      ]
    },
    {
      "cell_type": "code",
      "source": [
        "tree.export_graphviz(M, out_file='musiccheck.dot', feature_names=['age','gender'],\n",
        "                     class_names=sorted(O.unique()),label='all',rounded=True,\n",
        "                     filled=True)\n",
        "with open('musiccheck.dot') as f:\n",
        "  dot_grapf=f.read()\n",
        "graphviz.Source(dot_grapf)\n"
      ],
      "metadata": {
        "colab": {
          "base_uri": "https://localhost:8080/",
          "height": 619
        },
        "id": "mhW8mhndD3tu",
        "outputId": "e674670c-15b6-44a9-ff13-e993e9040b83"
      },
      "execution_count": 14,
      "outputs": [
        {
          "output_type": "execute_result",
          "data": {
            "text/plain": [
              "<graphviz.files.Source at 0x7f3c4d315dc0>"
            ],
            "image/svg+xml": "<?xml version=\"1.0\" encoding=\"UTF-8\" standalone=\"no\"?>\n<!DOCTYPE svg PUBLIC \"-//W3C//DTD SVG 1.1//EN\"\n \"http://www.w3.org/Graphics/SVG/1.1/DTD/svg11.dtd\">\n<!-- Generated by graphviz version 2.40.1 (20161225.0304)\n -->\n<!-- Title: Tree Pages: 1 -->\n<svg width=\"646pt\" height=\"433pt\"\n viewBox=\"0.00 0.00 646.00 433.00\" xmlns=\"http://www.w3.org/2000/svg\" xmlns:xlink=\"http://www.w3.org/1999/xlink\">\n<g id=\"graph0\" class=\"graph\" transform=\"scale(1 1) rotate(0) translate(4 429)\">\n<title>Tree</title>\n<polygon fill=\"#ffffff\" stroke=\"transparent\" points=\"-4,4 -4,-429 642,-429 642,4 -4,4\"/>\n<!-- 0 -->\n<g id=\"node1\" class=\"node\">\n<title>0</title>\n<path fill=\"#e5fad7\" stroke=\"#000000\" d=\"M462,-425C462,-425 340,-425 340,-425 334,-425 328,-419 328,-413 328,-413 328,-354 328,-354 328,-348 334,-342 340,-342 340,-342 462,-342 462,-342 468,-342 474,-348 474,-354 474,-354 474,-413 474,-413 474,-419 468,-425 462,-425\"/>\n<text text-anchor=\"middle\" x=\"401\" y=\"-409.8\" font-family=\"Helvetica,sans-Serif\" font-size=\"14.00\" fill=\"#000000\">age &lt;= 30.5</text>\n<text text-anchor=\"middle\" x=\"401\" y=\"-394.8\" font-family=\"Helvetica,sans-Serif\" font-size=\"14.00\" fill=\"#000000\">gini = 0.778</text>\n<text text-anchor=\"middle\" x=\"401\" y=\"-379.8\" font-family=\"Helvetica,sans-Serif\" font-size=\"14.00\" fill=\"#000000\">samples = 18</text>\n<text text-anchor=\"middle\" x=\"401\" y=\"-364.8\" font-family=\"Helvetica,sans-Serif\" font-size=\"14.00\" fill=\"#000000\">value = [3, 6, 3, 3, 3]</text>\n<text text-anchor=\"middle\" x=\"401\" y=\"-349.8\" font-family=\"Helvetica,sans-Serif\" font-size=\"14.00\" fill=\"#000000\">class = Classical</text>\n</g>\n<!-- 1 -->\n<g id=\"node2\" class=\"node\">\n<title>1</title>\n<path fill=\"#ffffff\" stroke=\"#000000\" d=\"M380,-306C380,-306 258,-306 258,-306 252,-306 246,-300 246,-294 246,-294 246,-235 246,-235 246,-229 252,-223 258,-223 258,-223 380,-223 380,-223 386,-223 392,-229 392,-235 392,-235 392,-294 392,-294 392,-300 386,-306 380,-306\"/>\n<text text-anchor=\"middle\" x=\"319\" y=\"-290.8\" font-family=\"Helvetica,sans-Serif\" font-size=\"14.00\" fill=\"#000000\">gender &lt;= 0.5</text>\n<text text-anchor=\"middle\" x=\"319\" y=\"-275.8\" font-family=\"Helvetica,sans-Serif\" font-size=\"14.00\" fill=\"#000000\">gini = 0.75</text>\n<text text-anchor=\"middle\" x=\"319\" y=\"-260.8\" font-family=\"Helvetica,sans-Serif\" font-size=\"14.00\" fill=\"#000000\">samples = 12</text>\n<text text-anchor=\"middle\" x=\"319\" y=\"-245.8\" font-family=\"Helvetica,sans-Serif\" font-size=\"14.00\" fill=\"#000000\">value = [3, 0, 3, 3, 3]</text>\n<text text-anchor=\"middle\" x=\"319\" y=\"-230.8\" font-family=\"Helvetica,sans-Serif\" font-size=\"14.00\" fill=\"#000000\">class = Acoustic</text>\n</g>\n<!-- 0&#45;&gt;1 -->\n<g id=\"edge1\" class=\"edge\">\n<title>0&#45;&gt;1</title>\n<path fill=\"none\" stroke=\"#000000\" d=\"M372.3204,-341.8796C366.2385,-333.0534 359.7578,-323.6485 353.4859,-314.5466\"/>\n<polygon fill=\"#000000\" stroke=\"#000000\" points=\"356.3582,-312.5465 347.802,-306.2981 350.5941,-316.5184 356.3582,-312.5465\"/>\n<text text-anchor=\"middle\" x=\"343.2761\" y=\"-327.185\" font-family=\"Helvetica,sans-Serif\" font-size=\"14.00\" fill=\"#000000\">True</text>\n</g>\n<!-- 8 -->\n<g id=\"node9\" class=\"node\">\n<title>8</title>\n<path fill=\"#7be539\" stroke=\"#000000\" d=\"M544,-298.5C544,-298.5 422,-298.5 422,-298.5 416,-298.5 410,-292.5 410,-286.5 410,-286.5 410,-242.5 410,-242.5 410,-236.5 416,-230.5 422,-230.5 422,-230.5 544,-230.5 544,-230.5 550,-230.5 556,-236.5 556,-242.5 556,-242.5 556,-286.5 556,-286.5 556,-292.5 550,-298.5 544,-298.5\"/>\n<text text-anchor=\"middle\" x=\"483\" y=\"-283.3\" font-family=\"Helvetica,sans-Serif\" font-size=\"14.00\" fill=\"#000000\">gini = 0.0</text>\n<text text-anchor=\"middle\" x=\"483\" y=\"-268.3\" font-family=\"Helvetica,sans-Serif\" font-size=\"14.00\" fill=\"#000000\">samples = 6</text>\n<text text-anchor=\"middle\" x=\"483\" y=\"-253.3\" font-family=\"Helvetica,sans-Serif\" font-size=\"14.00\" fill=\"#000000\">value = [0, 6, 0, 0, 0]</text>\n<text text-anchor=\"middle\" x=\"483\" y=\"-238.3\" font-family=\"Helvetica,sans-Serif\" font-size=\"14.00\" fill=\"#000000\">class = Classical</text>\n</g>\n<!-- 0&#45;&gt;8 -->\n<g id=\"edge8\" class=\"edge\">\n<title>0&#45;&gt;8</title>\n<path fill=\"none\" stroke=\"#000000\" d=\"M429.6796,-341.8796C437.4083,-330.6636 445.7809,-318.5131 453.5508,-307.2372\"/>\n<polygon fill=\"#000000\" stroke=\"#000000\" points=\"456.5623,-309.0353 459.3544,-298.8149 450.7982,-305.0634 456.5623,-309.0353\"/>\n<text text-anchor=\"middle\" x=\"463.8804\" y=\"-319.7018\" font-family=\"Helvetica,sans-Serif\" font-size=\"14.00\" fill=\"#000000\">False</text>\n</g>\n<!-- 2 -->\n<g id=\"node3\" class=\"node\">\n<title>2</title>\n<path fill=\"#ffffff\" stroke=\"#000000\" d=\"M298,-187C298,-187 176,-187 176,-187 170,-187 164,-181 164,-175 164,-175 164,-116 164,-116 164,-110 170,-104 176,-104 176,-104 298,-104 298,-104 304,-104 310,-110 310,-116 310,-116 310,-175 310,-175 310,-181 304,-187 298,-187\"/>\n<text text-anchor=\"middle\" x=\"237\" y=\"-171.8\" font-family=\"Helvetica,sans-Serif\" font-size=\"14.00\" fill=\"#000000\">age &lt;= 25.5</text>\n<text text-anchor=\"middle\" x=\"237\" y=\"-156.8\" font-family=\"Helvetica,sans-Serif\" font-size=\"14.00\" fill=\"#000000\">gini = 0.5</text>\n<text text-anchor=\"middle\" x=\"237\" y=\"-141.8\" font-family=\"Helvetica,sans-Serif\" font-size=\"14.00\" fill=\"#000000\">samples = 6</text>\n<text text-anchor=\"middle\" x=\"237\" y=\"-126.8\" font-family=\"Helvetica,sans-Serif\" font-size=\"14.00\" fill=\"#000000\">value = [3, 0, 3, 0, 0]</text>\n<text text-anchor=\"middle\" x=\"237\" y=\"-111.8\" font-family=\"Helvetica,sans-Serif\" font-size=\"14.00\" fill=\"#000000\">class = Acoustic</text>\n</g>\n<!-- 1&#45;&gt;2 -->\n<g id=\"edge2\" class=\"edge\">\n<title>1&#45;&gt;2</title>\n<path fill=\"none\" stroke=\"#000000\" d=\"M290.3204,-222.8796C284.2385,-214.0534 277.7578,-204.6485 271.4859,-195.5466\"/>\n<polygon fill=\"#000000\" stroke=\"#000000\" points=\"274.3582,-193.5465 265.802,-187.2981 268.5941,-197.5184 274.3582,-193.5465\"/>\n</g>\n<!-- 5 -->\n<g id=\"node6\" class=\"node\">\n<title>5</title>\n<path fill=\"#ffffff\" stroke=\"#000000\" d=\"M462,-187C462,-187 340,-187 340,-187 334,-187 328,-181 328,-175 328,-175 328,-116 328,-116 328,-110 334,-104 340,-104 340,-104 462,-104 462,-104 468,-104 474,-110 474,-116 474,-116 474,-175 474,-175 474,-181 468,-187 462,-187\"/>\n<text text-anchor=\"middle\" x=\"401\" y=\"-171.8\" font-family=\"Helvetica,sans-Serif\" font-size=\"14.00\" fill=\"#000000\">age &lt;= 25.5</text>\n<text text-anchor=\"middle\" x=\"401\" y=\"-156.8\" font-family=\"Helvetica,sans-Serif\" font-size=\"14.00\" fill=\"#000000\">gini = 0.5</text>\n<text text-anchor=\"middle\" x=\"401\" y=\"-141.8\" font-family=\"Helvetica,sans-Serif\" font-size=\"14.00\" fill=\"#000000\">samples = 6</text>\n<text text-anchor=\"middle\" x=\"401\" y=\"-126.8\" font-family=\"Helvetica,sans-Serif\" font-size=\"14.00\" fill=\"#000000\">value = [0, 0, 0, 3, 3]</text>\n<text text-anchor=\"middle\" x=\"401\" y=\"-111.8\" font-family=\"Helvetica,sans-Serif\" font-size=\"14.00\" fill=\"#000000\">class = HipHop</text>\n</g>\n<!-- 1&#45;&gt;5 -->\n<g id=\"edge5\" class=\"edge\">\n<title>1&#45;&gt;5</title>\n<path fill=\"none\" stroke=\"#000000\" d=\"M347.6796,-222.8796C353.7615,-214.0534 360.2422,-204.6485 366.5141,-195.5466\"/>\n<polygon fill=\"#000000\" stroke=\"#000000\" points=\"369.4059,-197.5184 372.198,-187.2981 363.6418,-193.5465 369.4059,-197.5184\"/>\n</g>\n<!-- 3 -->\n<g id=\"node4\" class=\"node\">\n<title>3</title>\n<path fill=\"#39e5c5\" stroke=\"#000000\" d=\"M134,-68C134,-68 12,-68 12,-68 6,-68 0,-62 0,-56 0,-56 0,-12 0,-12 0,-6 6,0 12,0 12,0 134,0 134,0 140,0 146,-6 146,-12 146,-12 146,-56 146,-56 146,-62 140,-68 134,-68\"/>\n<text text-anchor=\"middle\" x=\"73\" y=\"-52.8\" font-family=\"Helvetica,sans-Serif\" font-size=\"14.00\" fill=\"#000000\">gini = 0.0</text>\n<text text-anchor=\"middle\" x=\"73\" y=\"-37.8\" font-family=\"Helvetica,sans-Serif\" font-size=\"14.00\" fill=\"#000000\">samples = 3</text>\n<text text-anchor=\"middle\" x=\"73\" y=\"-22.8\" font-family=\"Helvetica,sans-Serif\" font-size=\"14.00\" fill=\"#000000\">value = [0, 0, 3, 0, 0]</text>\n<text text-anchor=\"middle\" x=\"73\" y=\"-7.8\" font-family=\"Helvetica,sans-Serif\" font-size=\"14.00\" fill=\"#000000\">class = Dance</text>\n</g>\n<!-- 2&#45;&gt;3 -->\n<g id=\"edge3\" class=\"edge\">\n<title>2&#45;&gt;3</title>\n<path fill=\"none\" stroke=\"#000000\" d=\"M175.9325,-103.9815C161.3919,-94.0957 145.9103,-83.5701 131.4886,-73.7651\"/>\n<polygon fill=\"#000000\" stroke=\"#000000\" points=\"133.3725,-70.8137 123.1349,-68.0856 129.4368,-76.6025 133.3725,-70.8137\"/>\n</g>\n<!-- 4 -->\n<g id=\"node5\" class=\"node\">\n<title>4</title>\n<path fill=\"#e58139\" stroke=\"#000000\" d=\"M298,-68C298,-68 176,-68 176,-68 170,-68 164,-62 164,-56 164,-56 164,-12 164,-12 164,-6 170,0 176,0 176,0 298,0 298,0 304,0 310,-6 310,-12 310,-12 310,-56 310,-56 310,-62 304,-68 298,-68\"/>\n<text text-anchor=\"middle\" x=\"237\" y=\"-52.8\" font-family=\"Helvetica,sans-Serif\" font-size=\"14.00\" fill=\"#000000\">gini = 0.0</text>\n<text text-anchor=\"middle\" x=\"237\" y=\"-37.8\" font-family=\"Helvetica,sans-Serif\" font-size=\"14.00\" fill=\"#000000\">samples = 3</text>\n<text text-anchor=\"middle\" x=\"237\" y=\"-22.8\" font-family=\"Helvetica,sans-Serif\" font-size=\"14.00\" fill=\"#000000\">value = [3, 0, 0, 0, 0]</text>\n<text text-anchor=\"middle\" x=\"237\" y=\"-7.8\" font-family=\"Helvetica,sans-Serif\" font-size=\"14.00\" fill=\"#000000\">class = Acoustic</text>\n</g>\n<!-- 2&#45;&gt;4 -->\n<g id=\"edge4\" class=\"edge\">\n<title>2&#45;&gt;4</title>\n<path fill=\"none\" stroke=\"#000000\" d=\"M237,-103.9815C237,-95.618 237,-86.7965 237,-78.3409\"/>\n<polygon fill=\"#000000\" stroke=\"#000000\" points=\"240.5001,-78.2636 237,-68.2637 233.5001,-78.2637 240.5001,-78.2636\"/>\n</g>\n<!-- 6 -->\n<g id=\"node7\" class=\"node\">\n<title>6</title>\n<path fill=\"#3c39e5\" stroke=\"#000000\" d=\"M462,-68C462,-68 340,-68 340,-68 334,-68 328,-62 328,-56 328,-56 328,-12 328,-12 328,-6 334,0 340,0 340,0 462,0 462,0 468,0 474,-6 474,-12 474,-12 474,-56 474,-56 474,-62 468,-68 462,-68\"/>\n<text text-anchor=\"middle\" x=\"401\" y=\"-52.8\" font-family=\"Helvetica,sans-Serif\" font-size=\"14.00\" fill=\"#000000\">gini = 0.0</text>\n<text text-anchor=\"middle\" x=\"401\" y=\"-37.8\" font-family=\"Helvetica,sans-Serif\" font-size=\"14.00\" fill=\"#000000\">samples = 3</text>\n<text text-anchor=\"middle\" x=\"401\" y=\"-22.8\" font-family=\"Helvetica,sans-Serif\" font-size=\"14.00\" fill=\"#000000\">value = [0, 0, 0, 3, 0]</text>\n<text text-anchor=\"middle\" x=\"401\" y=\"-7.8\" font-family=\"Helvetica,sans-Serif\" font-size=\"14.00\" fill=\"#000000\">class = HipHop</text>\n</g>\n<!-- 5&#45;&gt;6 -->\n<g id=\"edge6\" class=\"edge\">\n<title>5&#45;&gt;6</title>\n<path fill=\"none\" stroke=\"#000000\" d=\"M401,-103.9815C401,-95.618 401,-86.7965 401,-78.3409\"/>\n<polygon fill=\"#000000\" stroke=\"#000000\" points=\"404.5001,-78.2636 401,-68.2637 397.5001,-78.2637 404.5001,-78.2636\"/>\n</g>\n<!-- 7 -->\n<g id=\"node8\" class=\"node\">\n<title>7</title>\n<path fill=\"#e539c0\" stroke=\"#000000\" d=\"M626,-68C626,-68 504,-68 504,-68 498,-68 492,-62 492,-56 492,-56 492,-12 492,-12 492,-6 498,0 504,0 504,0 626,0 626,0 632,0 638,-6 638,-12 638,-12 638,-56 638,-56 638,-62 632,-68 626,-68\"/>\n<text text-anchor=\"middle\" x=\"565\" y=\"-52.8\" font-family=\"Helvetica,sans-Serif\" font-size=\"14.00\" fill=\"#000000\">gini = 0.0</text>\n<text text-anchor=\"middle\" x=\"565\" y=\"-37.8\" font-family=\"Helvetica,sans-Serif\" font-size=\"14.00\" fill=\"#000000\">samples = 3</text>\n<text text-anchor=\"middle\" x=\"565\" y=\"-22.8\" font-family=\"Helvetica,sans-Serif\" font-size=\"14.00\" fill=\"#000000\">value = [0, 0, 0, 0, 3]</text>\n<text text-anchor=\"middle\" x=\"565\" y=\"-7.8\" font-family=\"Helvetica,sans-Serif\" font-size=\"14.00\" fill=\"#000000\">class = Jazz</text>\n</g>\n<!-- 5&#45;&gt;7 -->\n<g id=\"edge7\" class=\"edge\">\n<title>5&#45;&gt;7</title>\n<path fill=\"none\" stroke=\"#000000\" d=\"M462.0675,-103.9815C476.6081,-94.0957 492.0897,-83.5701 506.5114,-73.7651\"/>\n<polygon fill=\"#000000\" stroke=\"#000000\" points=\"508.5632,-76.6025 514.8651,-68.0856 504.6275,-70.8137 508.5632,-76.6025\"/>\n</g>\n</g>\n</svg>\n"
          },
          "metadata": {},
          "execution_count": 14
        }
      ]
    },
    {
      "cell_type": "code",
      "source": [],
      "metadata": {
        "id": "AEP2WkV9D9h9"
      },
      "execution_count": null,
      "outputs": []
    }
  ]
}